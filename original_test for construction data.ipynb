{
 "cells": [
  {
   "cell_type": "code",
   "execution_count": 1,
   "metadata": {},
   "outputs": [],
   "source": [
    "import test_similarity"
   ]
  },
  {
   "cell_type": "code",
   "execution_count": 2,
   "metadata": {},
   "outputs": [],
   "source": [
    "import pandas as pd\n",
    "\n",
    "import numpy as np\n",
    "from numpy import dot\n",
    "from numpy.linalg import norm\n",
    "cos_sim = lambda a,b: dot(a, b)/(norm(a)*norm(b))\n",
    "\n",
    "import matplotlib.pyplot as plt"
   ]
  },
  {
   "cell_type": "code",
   "execution_count": 3,
   "metadata": {},
   "outputs": [],
   "source": [
    "def predict(source_vecs, target_vecs, top_n=3):\n",
    "    top_n_predictions_all = []\n",
    "    for sv in source_vecs:\n",
    "        sims = [cos_sim(sv, tv) for tv in target_vecs]\n",
    "        top_n_predictions_single = [idx2ps[idx] for idx in np.argsort(sims)[::-1][:top_n]]\n",
    "        top_n_predictions_all.append(top_n_predictions_single)\n",
    "    return top_n_predictions_all   \n",
    "\n",
    "def evaluate(preds, gts):\n",
    "    n = 0\n",
    "    for i, pred in enumerate(preds):\n",
    "        if gts[i] in pred:\n",
    "            n+=1           \n",
    "    return float(\"%.3f\" %(n/len(preds)))\n",
    "\n",
    "def repeat_data(ps_unique, mg, ps, n=2):\n",
    "    _ps_unique_repeat = [(p+' ')*n for p in ps_unique]\n",
    "    _mg_repeat = [(m+' ')*n for m in mg]\n",
    "    _ps_repeat = [(p+' ')*n for p in ps]\n",
    "    return _ps_unique_repeat, _mg_repeat, _ps_repeat\n",
    "\n",
    "def repeat_data2(ps_unique, mg, ps, n=2):\n",
    "    _ps_unique_repeat = [(p+' in construction ')*n for p in ps_unique]\n",
    "    _mg_repeat = [(m+' in construction ')*n for m in mg]\n",
    "    _ps_repeat = [(p+' in construction ')*n for p in ps]\n",
    "    return _ps_unique_repeat, _mg_repeat, _ps_repeat"
   ]
  },
  {
   "cell_type": "code",
   "execution_count": 4,
   "metadata": {},
   "outputs": [],
   "source": [
    "data = pd.read_excel('../data/Case1_Dataset.xlsx')\n",
    "MG = list(data['Material Group Description']);PS = list(data['Procurement Structure Description'])"
   ]
  },
  {
   "cell_type": "code",
   "execution_count": 5,
   "metadata": {},
   "outputs": [],
   "source": [
    "ps_unique = list(set(PS))\n",
    "\n",
    "#ps_unique, MG, PS = repeat_data(ps_unique, MG, PS, n=30)\n",
    "ps_unique, MG, PS = repeat_data2(ps_unique, MG, PS, n=8)\n",
    "\n",
    "idx2ps = {k:v for k,v in enumerate(ps_unique)}\n",
    "ps2idx = {v:k for k,v in enumerate(ps_unique)}\n",
    "\n",
    "idx2mg = {k:v for k,v in enumerate(MG)}\n",
    "mg2idx = {v:k for k,v in enumerate(MG)}"
   ]
  },
  {
   "cell_type": "code",
   "execution_count": 6,
   "metadata": {
    "scrolled": true
   },
   "outputs": [
    {
     "name": "stdout",
     "output_type": "stream",
     "text": [
      "WARNING:tensorflow:Estimator's model_fn (<function model_fn_builder.<locals>.model_fn at 0x000001EE3785E400>) includes params argument, but params are not passed to Estimator.\n",
      "WARNING:tensorflow:eval_on_tpu ignored because use_tpu is False.\n"
     ]
    }
   ],
   "source": [
    "from importlib import reload\n",
    "reload(test_similarity)\n",
    "\n",
    "model = test_similarity.Model(vocab_file='../model_kb/vocab.txt', \n",
    "              bert_config_file='../model_kb/bert_config.json', \n",
    "              init_checkpoint='../model_kb/bert_model.ckpt', \n",
    "              model_dir='../model_kb/',\n",
    "              layer=[-1, -2], \n",
    "              pooling_strategy = 'MEAN',\n",
    "              max_seq_length=26)"
   ]
  },
  {
   "cell_type": "code",
   "execution_count": 7,
   "metadata": {},
   "outputs": [
    {
     "name": "stdout",
     "output_type": "stream",
     "text": [
      "0.6063\n",
      "Wall time: 447 ms\n"
     ]
    },
    {
     "data": {
      "text/plain": [
       "0.7848"
      ]
     },
     "execution_count": 7,
     "metadata": {},
     "output_type": "execute_result"
    }
   ],
   "source": [
    "print(model.similarity(\"river bank\", \"mechant bank\"))\n",
    "%time model.similarity(\"windows operating system\", \"windows platform architecture\")"
   ]
  },
  {
   "cell_type": "code",
   "execution_count": 8,
   "metadata": {
    "scrolled": true
   },
   "outputs": [],
   "source": [
    "all_mg_vecs = model.encode(MG);all_ps_vecs = model.encode(ps_unique)"
   ]
  },
  {
   "cell_type": "code",
   "execution_count": 9,
   "metadata": {},
   "outputs": [
    {
     "name": "stdout",
     "output_type": "stream",
     "text": [
      "Top1 accuracy:  0.535\n"
     ]
    }
   ],
   "source": [
    "accs = []\n",
    "\n",
    "predictions = predict(all_mg_vecs, all_ps_vecs, top_n=1)\n",
    "acc1 = evaluate(predictions, PS)\n",
    "\n",
    "accs.append(acc1)\n",
    "print(\"Top1 accuracy: \", acc1)"
   ]
  },
  {
   "cell_type": "code",
   "execution_count": 10,
   "metadata": {},
   "outputs": [
    {
     "name": "stdout",
     "output_type": "stream",
     "text": [
      "Top3 accuracy:  0.701\n"
     ]
    }
   ],
   "source": [
    "top_mappings = predict(all_mg_vecs, all_ps_vecs, top_n=3)\n",
    "acc3 = evaluate(top_mappings, PS)\n",
    "accs.append(acc3)\n",
    "print(\"Top3 accuracy: \", acc3)"
   ]
  },
  {
   "cell_type": "code",
   "execution_count": 11,
   "metadata": {},
   "outputs": [
    {
     "name": "stdout",
     "output_type": "stream",
     "text": [
      "Top5 accuracy:  0.803\n"
     ]
    }
   ],
   "source": [
    "top_mappings = predict(all_mg_vecs, all_ps_vecs, top_n=5)\n",
    "acc5 = evaluate(top_mappings, PS)\n",
    "accs.append(acc5)\n",
    "print(\"Top5 accuracy: \", acc5)"
   ]
  },
  {
   "cell_type": "code",
   "execution_count": null,
   "metadata": {},
   "outputs": [],
   "source": []
  }
 ],
 "metadata": {
  "kernelspec": {
   "display_name": "Python 3",
   "language": "python",
   "name": "python3"
  },
  "language_info": {
   "codemirror_mode": {
    "name": "ipython",
    "version": 3
   },
   "file_extension": ".py",
   "mimetype": "text/x-python",
   "name": "python",
   "nbconvert_exporter": "python",
   "pygments_lexer": "ipython3",
   "version": "3.6.4"
  }
 },
 "nbformat": 4,
 "nbformat_minor": 2
}
