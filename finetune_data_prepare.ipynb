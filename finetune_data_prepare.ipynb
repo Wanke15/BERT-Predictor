{
 "cells": [
  {
   "cell_type": "code",
   "execution_count": 1,
   "metadata": {},
   "outputs": [],
   "source": [
    "import pandas as pd\n",
    "import numpy as np\n",
    "\n",
    "import matplotlib.pyplot as plt\n",
    "%matplotlib inline"
   ]
  },
  {
   "cell_type": "code",
   "execution_count": 2,
   "metadata": {},
   "outputs": [],
   "source": [
    "with open('../data/full_text_sentences_new.txt', 'r') as f:\n",
    "    all_texts = f.readlines()"
   ]
  },
  {
   "cell_type": "code",
   "execution_count": 3,
   "metadata": {},
   "outputs": [],
   "source": [
    "text_length = [len(line.split(' ')) for line in all_texts]"
   ]
  },
  {
   "cell_type": "code",
   "execution_count": 4,
   "metadata": {},
   "outputs": [
    {
     "data": {
      "image/png": "[encoded data removed]",
      "text/plain": [
       "<Figure size 432x288 with 1 Axes>"
      ]
     },
     "metadata": {
      "needs_background": "light"
     },
     "output_type": "display_data"
    }
   ],
   "source": [
    "pd.Series(text_length).value_counts().plot(kind='bar', rot=0)\n",
    "for idx, v in enumerate(pd.Series(text_length).value_counts()):\n",
    "    plt.text(idx, v+0.05, '%d' % v, ha='center', va= 'bottom',fontsize=10)\n",
    "    \n",
    "plt.xlabel('Sentence Length')\n",
    "plt.ylabel('Count')\n",
    "plt.show()"
   ]
  },
  {
   "cell_type": "code",
   "execution_count": 6,
   "metadata": {},
   "outputs": [],
   "source": [
    "np.random.seed(123)\n",
    "NUM_SAMPLES_PER = 5000\n",
    "finetune_data1 = []\n",
    "SENT_LEN = 50\n",
    "for _ in range(NUM_SAMPLES_PER):\n",
    "    i = np.random.randint(0, len(all_texts), 1)[0]\n",
    "    _temp =  all_texts[i].split(' ')\n",
    "    text_a = ' '.join(_temp[:SENT_LEN])\n",
    "    try:\n",
    "        text_b = ' '.join(_temp[SENT_LEN:2*SENT_LEN])+'\\n'\n",
    "    except:\n",
    "        text_b = ' '.join(_temp[SENT_LEN:])\n",
    "    finetune_data1.append(['1', str(i), str(i)+'_', text_a, text_b])\n",
    "    \n",
    "finetune_data1 = np.array(finetune_data1)"
   ]
  },
  {
   "cell_type": "code",
   "execution_count": 7,
   "metadata": {},
   "outputs": [
    {
     "data": {
      "text/plain": [
       "5000"
      ]
     },
     "execution_count": 7,
     "metadata": {},
     "output_type": "execute_result"
    }
   ],
   "source": [
    "len(finetune_data1)"
   ]
  },
  {
   "cell_type": "code",
   "execution_count": 8,
   "metadata": {},
   "outputs": [
    {
     "data": {
      "text/plain": [
       "' and many inorganic solids can have regular structures where coordinating atoms are all at the same distance and they form the vertices of coordination geometrycoordination polyhedron however there are also many such solids where the structures are irregular in materials science the bulk coordination number of given atom in the interior of crystal lattice is the number of nearest neighbours to given atomcitation neededdatenovember 2014 for an atom at surface of crystal the surface coordination number is always less than the bulk coordination number the surface coordination number is dependent on the miller indexmiller indices of the surface in cubic crystal systembody-centered cubic bcc crystal the bulk coordination number is 8 whereas for the 100 surface the surface coordination number is 4citation neededdatenovember 2014lt---these definitions square with the usage in the literature but reference for the difinition is required--gt -aluminium has regular cubic close packed structure face-centered cubicfcc where each aluminium atom has 12 nearest neighbors in the same plane and above and below and the coordination polyhedron is cuboctahedron -iron has cubic crystal systembody centered cubic structure where each iron atom has nearest neighbors situated at the corners of cube graphite layer carbon atoms and c ; ;c\\n'"
      ]
     },
     "execution_count": 8,
     "metadata": {},
     "output_type": "execute_result"
    }
   ],
   "source": [
    "all_texts[17837]"
   ]
  },
  {
   "cell_type": "code",
   "execution_count": 9,
   "metadata": {},
   "outputs": [],
   "source": [
    "np.random.seed(123)\n",
    "finetune_data2 = []\n",
    "for _ in range(len(finetune_data1)):\n",
    "    j = np.random.randint(0, len(all_texts), 1)[0]\n",
    "    s = np.random.randint(0, len(all_texts), 1)[0]\n",
    "    _temp_a =  all_texts[j].split(' ')\n",
    "    _temp_b =  all_texts[s].split(' ')\n",
    "    \n",
    "    text_a = ' '.join(_temp_a[:SENT_LEN])\n",
    "    try:\n",
    "        text_b = ' '.join(_temp_b[SENT_LEN:2*SENT_LEN])+'\\n'\n",
    "    except:\n",
    "        text_b = ' '.join(_temp_b[SENT_LEN:])\n",
    "    if (j+1) != s:\n",
    "        finetune_data2.append(['0', str(j), str(s), text_a, text_b])\n",
    "    else:\n",
    "        finetune_data2.append(['1', str(j), str(s), text_a, text_b])\n",
    "        \n",
    "finetune_data2 = np.array(finetune_data2)"
   ]
  },
  {
   "cell_type": "code",
   "execution_count": 10,
   "metadata": {},
   "outputs": [],
   "source": [
    "dataset_all = np.concatenate((finetune_data1, finetune_data2), axis=0)"
   ]
  },
  {
   "cell_type": "code",
   "execution_count": 12,
   "metadata": {},
   "outputs": [],
   "source": [
    "df = pd.DataFrame(dataset_all, columns=['label', 'id1', 'id2', 'sent1', 'sent2'])"
   ]
  },
  {
   "cell_type": "code",
   "execution_count": 16,
   "metadata": {},
   "outputs": [
    {
     "data": {
      "image/png": "[encoded data removed]",
      "text/plain": [
       "<Figure size 432x288 with 1 Axes>"
      ]
     },
     "metadata": {
      "needs_background": "light"
     },
     "output_type": "display_data"
    }
   ],
   "source": [
    "df['label'].value_counts().plot(kind='bar')\n",
    "df['label'].value_counts().plot(kind='bar', rot=0)\n",
    "for idx, v in enumerate(df['label'].value_counts()):\n",
    "    plt.text(idx, v+0.05, '%d' % v, ha='center', va= 'bottom',fontsize=10)\n",
    "    \n",
    "plt.xlabel('Label')\n",
    "plt.ylabel('Count')\n",
    "plt.show()"
   ]
  },
  {
   "cell_type": "code",
   "execution_count": 10,
   "metadata": {},
   "outputs": [],
   "source": [
    "np.random.seed(123)\n",
    "np.random.shuffle(dataset_all)\n",
    "\n",
    "with open('../data/train.tsv', 'w') as f:\n",
    "    f.write(\"Quality\t#1 ID\t#2 ID\t#1 String\t#2 String\\n\")\n",
    "    for i, record in enumerate(dataset_all[:int(len(dataset_all)*0.7)]):\n",
    "        f.write(record[0]+'\\t'+record[1]+'\\t'+record[2]+'\\t'+record[3]+'\\t'+record[4])\n",
    "\n",
    "with open('../data/dev.tsv', 'w') as f:\n",
    "    f.write(\"Quality\t#1 ID\t#2 ID\t#1 String\t#2 String\\n\")\n",
    "    for i, record in enumerate(dataset_all[int(len(dataset_all)*0.7): int(len(dataset_all)*0.9)]):\n",
    "        f.write(record[0]+'\\t'+record[1]+'\\t'+record[2]+'\\t'+record[3]+'\\t'+record[4])\n",
    "        \n",
    "with open('../data/test.tsv', 'w') as f:\n",
    "    f.write(\"Quality\t#1 ID\t#2 ID\t#1 String\t#2 String\\n\")\n",
    "    for i, record in enumerate(dataset_all[int(len(dataset_all)*0.9):]):\n",
    "        f.write(record[0]+'\\t'+record[1]+'\\t'+record[2]+'\\t'+record[3]+'\\t'+record[4])"
   ]
  },
  {
   "cell_type": "code",
   "execution_count": null,
   "metadata": {},
   "outputs": [],
   "source": []
  }
 ],
 "metadata": {
  "kernelspec": {
   "display_name": "Python 3",
   "language": "python",
   "name": "python3"
  },
  "language_info": {
   "codemirror_mode": {
    "name": "ipython",
    "version": 3
   },
   "file_extension": ".py",
   "mimetype": "text/x-python",
   "name": "python",
   "nbconvert_exporter": "python",
   "pygments_lexer": "ipython3",
   "version": "3.6.4"
  }
 },
 "nbformat": 4,
 "nbformat_minor": 2
}
